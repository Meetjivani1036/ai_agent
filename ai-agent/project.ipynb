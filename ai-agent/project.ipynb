{
 "cells": [
  {
   "cell_type": "code",
   "execution_count": null,
   "id": "92e6a7dc",
   "metadata": {
    "vscode": {
     "languageId": "plaintext"
    }
   },
   "outputs": [],
   "source": [
    "!pip install -q google-generativeai\n",
    "\n",
    "# STEP 2: Import Libraries\n",
    "import google.generativeai as genai\n",
    "\n",
    "# STEP 3: Set your Gemini API Key (Replace with your key)\n",
    "API_KEY = \"AIzaSyDx2x7P9VFlrPvNdodXTCLlm8P2Xvs9uZohow\"\n",
    "genai.configure(api_key=API_KEY)\n",
    "\n",
    "# STEP 4: Load Gemini 2.0 Flash Model\n",
    "model = genai.GenerativeModel(model_name=\"models/gemini-2.0-flash\")\n",
    "\n",
    "# STEP 5: Define the Climate Agent Function\n",
    "def climate_agent(prompt):\n",
    "    try:\n",
    "        one_line_prompt = f\"You are a climate action expert. Answer this in one line: {prompt}\"\n",
    "        response = model.generate_content(one_line_prompt)\n",
    "        return response.text.strip()\n",
    "    except Exception as e:\n",
    "        return f\"⚠ Error: {e}\"\n",
    "\n",
    "# STEP 6: Interactive Q&A Loop\n",
    "print(\"🌿 Climate Action Agent is ready (Gemini 2.0 Flash)\\n\")\n",
    "print(\"Ask questions like:\\n- How to reduce emissions?\\n- Best solution to rising sea levels?\\nType 'exit' to quit.\\n\")\n",
    "\n",
    "while True:\n",
    "    user_input = input(\"You: \")\n",
    "    if user_input.lower() in [\"exit\", \"quit\"]:\n",
    "        print(\"👋 Goodbye! Stay eco-friendly 🌱\")\n",
    "        break\n",
    "\n",
    "    reply = climate_agent(user_input)\n",
    "    print(\"🌎 AI:\", reply)"
   ]
  }
 ],
 "metadata": {
  "language_info": {
   "name": "python"
  }
 },
 "nbformat": 4,
 "nbformat_minor": 5
}
